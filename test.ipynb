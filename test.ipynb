{
 "cells": [
  {
   "cell_type": "code",
   "execution_count": null,
   "id": "344ae376",
   "metadata": {},
   "outputs": [
    {
     "name": "stderr",
     "output_type": "stream",
     "text": [
      "/Users/jmho/Desktop/Personal-Documents/work/Velocity/Quantum/test/.venv/lib/python3.11/site-packages/tqdm/auto.py:21: TqdmWarning: IProgress not found. Please update jupyter and ipywidgets. See https://ipywidgets.readthedocs.io/en/stable/user_install.html\n",
      "  from .autonotebook import tqdm as notebook_tqdm\n",
      "2025/05/16 01:25:04 WARNING mlflow.utils.requirements_utils: Failed to run predict on input_example, dependencies introduced in predict are not captured.\n",
      "TypeError('ChainOfThought.forward() takes 1 positional argument but 2 were given')Traceback (most recent call last):\n",
      "  File \"/Users/jmho/Desktop/Personal-Documents/work/Velocity/Quantum/test/.venv/lib/python3.11/site-packages/mlflow/utils/_capture_modules.py\", line 166, in load_model_and_predict\n",
      "    model.predict(input_example, params=params)\n",
      "  File \"/Users/jmho/Desktop/Personal-Documents/work/Velocity/Quantum/test/.venv/lib/python3.11/site-packages/mlflow/dspy/wrapper.py\", line 89, in predict\n",
      "    outputs = self.model(converted_inputs)\n",
      "              ^^^^^^^^^^^^^^^^^^^^^^^^^^^^\n",
      "  File \"/Users/jmho/Desktop/Personal-Documents/work/Velocity/Quantum/test/.venv/lib/python3.11/site-packages/dspy/utils/callback.py\", line 326, in sync_wrapper\n",
      "    return fn(instance, *args, **kwargs)\n",
      "           ^^^^^^^^^^^^^^^^^^^^^^^^^^^^^\n",
      "  File \"/Users/jmho/Desktop/Personal-Documents/work/Velocity/Quantum/test/.venv/lib/python3.11/site-packages/dspy/primitives/program.py\", line 32, in __call__\n",
      "    return self.forward(*args, **kwargs)\n",
      "           ^^^^^^^^^^^^^^^^^^^^^^^^^^^^^\n",
      "TypeError: ChainOfThought.forward() takes 1 positional argument but 2 were given\n",
      "2025/05/16 01:25:05 WARNING mlflow.utils.environment: Failed to resolve installed pip version. ``pip`` will be added to conda.yaml environment spec without a version specifier.\n",
      "2025/05/16 01:25:05 WARNING mlflow.models.model: Failed to validate serving input example {\n",
      "  \"messages\": [\n",
      "    {\n",
      "      \"role\": \"user\",\n",
      "      \"content\": \"What is LLM agent?\"\n",
      "    }\n",
      "  ]\n",
      "}. Alternatively, you can avoid passing input example and pass model signature instead when logging the model. To ensure the input example is valid prior to serving, please try calling `mlflow.models.validate_serving_input` on the model uri and serving input example. A serving input example can be generated from model input example using `mlflow.models.convert_input_example_to_serving_input` function.\n",
      "Got error: ChainOfThought.forward() takes 1 positional argument but 2 were given\n"
     ]
    },
    {
     "name": "stdout",
     "output_type": "stream",
     "text": [
      "🏃 View run languid-cod-915 at: http://127.0.0.1:5000/#/experiments/906519351427543192/runs/f5735831c2cb4a5591d3cbcff5c5dd03\n",
      "🧪 View experiment at: http://127.0.0.1:5000/#/experiments/906519351427543192\n"
     ]
    }
   ],
   "source": [
    "import dspy\n",
    "import mlflow\n",
    "from mlflow.dspy import log_model\n",
    "import os\n",
    "\n",
    "mlflow.set_tracking_uri(\"http://127.0.0.1:5000/\")\n",
    "mlflow.set_experiment(\"deploy_dspy_program\")\n",
    "\n",
    "api_key = os.getenv(\"OPENAI_API_KEY\")\n",
    "\n",
    "lm = dspy.LM(\"openai/gpt-4o-mini\", api_key=api_key)\n",
    "dspy.settings.configure(lm=lm)\n",
    "\n",
    "dspy_program = dspy.ChainOfThought(\"question -> answer\")\n",
    "\n",
    "with mlflow.start_run():\n",
    "    log_model(\n",
    "        dspy_program,\n",
    "        \"dspy_program\",\n",
    "        input_example={\"messages\": [{\"role\": \"user\", \"content\": \"What is LLM agent?\"}]},\n",
    "        task=\"llm/v1/chat\",\n",
    "    )\n"
   ]
  }
 ],
 "metadata": {
  "kernelspec": {
   "display_name": ".venv",
   "language": "python",
   "name": "python3"
  },
  "language_info": {
   "codemirror_mode": {
    "name": "ipython",
    "version": 3
   },
   "file_extension": ".py",
   "mimetype": "text/x-python",
   "name": "python",
   "nbconvert_exporter": "python",
   "pygments_lexer": "ipython3",
   "version": "3.11.6"
  }
 },
 "nbformat": 4,
 "nbformat_minor": 5
}
